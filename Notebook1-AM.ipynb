{
 "cells": [
  {
   "cell_type": "markdown",
   "metadata": {},
   "source": [
    "# Resolución Laboratorio 2"
   ]
  },
  {
   "cell_type": "markdown",
   "metadata": {},
   "source": [
    "## Modulación AM - Notebook 1"
   ]
  },
  {
   "cell_type": "markdown",
   "metadata": {},
   "source": [
    "   - Revisar la representación matemática de la modulación AM de sus apuntes o en el siguiente link: https://www.textoscientificos.com/redes/modulacion/amplitud\n",
    "   - Abrir Anaconda Navigator (Para este laboratorio como la mayoría de los laboratorios utilizaremos los Notebooks, Anaconda viene con una herramienta que se denomina Jupyter que permite manejar Notebooks).\n",
    "\n",
    "(En el caso de Pycharm, leer esto: https://www.jetbrains.com/help/pycharm/2016.1/tutorial-using-ipython-jupyter-notebook-with-pycharm.html)\n",
    "\n",
    "   - Definir el enviroment: \"Siscom\" (Si no lo crearon al instalar, clic aqui para ver un tutorial)\n",
    "   - Abrir un nuevo Notebook de Jupyter (Launch)\n",
    "   - Necesitaremos las librerías Numpy, Scipy y Matplotlib (Numpy ya debería estar instalada por defecto)\n",
    "\n",
    "Recomendación: Revisar en que consiste cada una de estas librerías: Numpy, Scipy, Matplotlib\n",
    "\n",
    "A continuación ya puedes empezar a escribir el código para:\n",
    "\n",
    "   - Generar una señal portadora, archivo wav (Notebook_1_AM)"
   ]
  },
  {
   "cell_type": "markdown",
   "metadata": {},
   "source": [
    "# Código Resuelto"
   ]
  },
  {
   "cell_type": "code",
   "execution_count": 14,
   "metadata": {},
   "outputs": [],
   "source": [
    "#Importar librerías"
   ]
  },
  {
   "cell_type": "code",
   "execution_count": null,
   "metadata": {},
   "outputs": [],
   "source": []
  },
  {
   "cell_type": "code",
   "execution_count": 3,
   "metadata": {},
   "outputs": [],
   "source": [
    "import matplotlib.pyplot as plt"
   ]
  },
  {
   "cell_type": "code",
   "execution_count": 4,
   "metadata": {},
   "outputs": [],
   "source": [
    "import numpy as np"
   ]
  },
  {
   "cell_type": "code",
   "execution_count": 5,
   "metadata": {},
   "outputs": [],
   "source": [
    "from scipy.io.wavfile import write"
   ]
  },
  {
   "cell_type": "code",
   "execution_count": 6,
   "metadata": {},
   "outputs": [],
   "source": [
    "#Parámetros de la señal"
   ]
  },
  {
   "cell_type": "code",
   "execution_count": 7,
   "metadata": {},
   "outputs": [],
   "source": [
    "mps= 44100   #muestras por segundo\n",
    "frec_portadora = 440  #hz\n",
    "duracion = 10  #segundos"
   ]
  },
  {
   "cell_type": "code",
   "execution_count": 8,
   "metadata": {},
   "outputs": [],
   "source": [
    "#Calculamos la señal sinusoidal de la portadora"
   ]
  },
  {
   "cell_type": "code",
   "execution_count": 9,
   "metadata": {},
   "outputs": [
    {
     "data": {
      "text/plain": [
       "array([     0,      1,      2, ..., 440997, 440998, 440999])"
      ]
     },
     "execution_count": 9,
     "metadata": {},
     "output_type": "execute_result"
    }
   ],
   "source": [
    "muestras = np.arange(mps * duracion)\n",
    "muestras"
   ]
  },
  {
   "cell_type": "code",
   "execution_count": 10,
   "metadata": {},
   "outputs": [],
   "source": [
    "portadora = np.sin(2 * np.pi * frec_portadora * muestras / mps)\n",
    "portadora *= 0.3  #atenuación\n",
    "portadora_ints = np.int16(portadora * 32767)"
   ]
  },
  {
   "cell_type": "code",
   "execution_count": 11,
   "metadata": {},
   "outputs": [],
   "source": [
    "# Generamos la señal portadora"
   ]
  },
  {
   "cell_type": "code",
   "execution_count": 12,
   "metadata": {},
   "outputs": [],
   "source": [
    "write('señal-portadora-AM.wav', mps, portadora_ints)"
   ]
  },
  {
   "cell_type": "markdown",
   "metadata": {},
   "source": [
    "## Preguntas"
   ]
  },
  {
   "cell_type": "markdown",
   "metadata": {},
   "source": [
    "### ¿Para qué sirven las librerías Numpy, Scipy y Matplotlib? Explica cada una de ellas."
   ]
  },
  {
   "cell_type": "markdown",
   "metadata": {},
   "source": [
    "NumPy es una extensión de Python, que le agrega mayor soporte para vectores y matrices, constituyendo una biblioteca de funciones matemáticas de alto nivel para operar con esos vectores o matricesNumPy es una extensión de Python, que le agrega mayor soporte para vectores y matrices, constituyendo una biblioteca de funciones matemáticas de alto nivel para operar con esos vectores o matrices\n",
    "\n",
    "Matplotlib es una biblioteca para la generación de gráficos a partir de datos contenidos en listas o arrays en el lenguaje de programación Python y su extensión matemática NumPy. Proporciona una API, pylab, diseñada para recordar a la de MATLAB. \n",
    "\n",
    "SciPy es una biblioteca open source de herramientas y algoritmos matemáticos para Python que nació a partir de que \n",
    "contiene módulos para optimización, álgebra lineal, integración, interpolación, funciones especiales, FFT, procesamiento de señales y de imagen, resolución de ODEs y otras tareas para la ciencia e ingeniería."
   ]
  },
  {
   "cell_type": "markdown",
   "metadata": {},
   "source": [
    "### ¿Qué es la señal portadora?"
   ]
  },
  {
   "cell_type": "markdown",
   "metadata": {},
   "source": [
    "Es la señal que se usa dentro de la modulación para que a través de la modificación de alguno de sus parámetros (amplitud, frecuencia o fase) se pueda tranmitir otra señal modulante dónde se tiene la información."
   ]
  }
 ],
 "metadata": {
  "kernelspec": {
   "display_name": "Python 3",
   "language": "python",
   "name": "python3"
  },
  "language_info": {
   "codemirror_mode": {
    "name": "ipython",
    "version": 3
   },
   "file_extension": ".py",
   "mimetype": "text/x-python",
   "name": "python",
   "nbconvert_exporter": "python",
   "pygments_lexer": "ipython3",
   "version": "3.7.2"
  }
 },
 "nbformat": 4,
 "nbformat_minor": 2
}
